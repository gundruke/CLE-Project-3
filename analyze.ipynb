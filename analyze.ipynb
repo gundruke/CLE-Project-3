{
 "cells": [
  {
   "cell_type": "code",
   "execution_count": 38,
   "id": "16f3d471-e308-41b9-9168-79207948b9c4",
   "metadata": {},
   "outputs": [],
   "source": [
    "with open(\"test.txt\") as fp:\n",
    "    lines = fp.read().splitlines()"
   ]
  },
  {
   "cell_type": "code",
   "execution_count": 39,
   "id": "4ad89067-d87e-42a6-a742-74ee677ba263",
   "metadata": {},
   "outputs": [],
   "source": [
    "x = [float(line.split(\":\")[1][7:-2]) for line in lines[21:-4]]\n",
    "y = [float(line.split(\":\")[2][7:-1]) for line in lines[21:-4]]"
   ]
  },
  {
   "cell_type": "code",
   "execution_count": 40,
   "id": "d8f36f94-e82c-4db0-a817-ee8f7a7e996f",
   "metadata": {},
   "outputs": [
    {
     "data": {
      "text/plain": [
       "True"
      ]
     },
     "execution_count": 40,
     "metadata": {},
     "output_type": "execute_result"
    }
   ],
   "source": [
    "a == b"
   ]
  },
  {
   "cell_type": "code",
   "execution_count": 41,
   "id": "93735e49-bc2b-46a0-b50a-612da7ad1ae3",
   "metadata": {},
   "outputs": [],
   "source": [
    "for a,b in zip(x,y):\n",
    "    if not a == b:\n",
    "        print(f\"{a}\\t{b}\")"
   ]
  },
  {
   "cell_type": "code",
   "execution_count": null,
   "id": "7bf17d79-35a1-4a07-b4c1-e5064a88feb0",
   "metadata": {},
   "outputs": [],
   "source": []
  },
  {
   "cell_type": "code",
   "execution_count": null,
   "id": "44ef6486-1c2f-4cc6-882f-206dec0fff8c",
   "metadata": {},
   "outputs": [],
   "source": []
  },
  {
   "cell_type": "code",
   "execution_count": null,
   "id": "628d663e-5b5d-4955-b3b9-1c5fff928cc3",
   "metadata": {},
   "outputs": [],
   "source": []
  },
  {
   "cell_type": "code",
   "execution_count": null,
   "id": "625b9a6a-06ad-4419-8818-b7fe83012f3b",
   "metadata": {},
   "outputs": [],
   "source": [
    "len(lines"
   ]
  },
  {
   "cell_type": "code",
   "execution_count": null,
   "id": "a5a878d2-eebc-4c64-90be-162eae606c6a",
   "metadata": {},
   "outputs": [],
   "source": []
  }
 ],
 "metadata": {
  "kernelspec": {
   "display_name": "Python 3 (ipykernel)",
   "language": "python",
   "name": "python3"
  },
  "language_info": {
   "codemirror_mode": {
    "name": "ipython",
    "version": 3
   },
   "file_extension": ".py",
   "mimetype": "text/x-python",
   "name": "python",
   "nbconvert_exporter": "python",
   "pygments_lexer": "ipython3",
   "version": "3.10.5"
  }
 },
 "nbformat": 4,
 "nbformat_minor": 5
}
