{
 "cells": [
  {
   "cell_type": "code",
   "execution_count": null,
   "id": "16f3d471-e308-41b9-9168-79207948b9c4",
   "metadata": {},
   "outputs": [],
   "source": [
    "with open(\"test.txt\") as fp:\n",
    "    lines = fp.read().splitlines()"
   ]
  },
  {
   "cell_type": "code",
   "execution_count": null,
   "id": "4ad89067-d87e-42a6-a742-74ee677ba263",
   "metadata": {},
   "outputs": [],
   "source": [
    "x = [float(line.split(\":\")[1][7:-2]) for line in lines[21:-4]]\n",
    "y = [float(line.split(\":\")[2][7:-1]) for line in lines[21:-4]]"
   ]
  },
  {
   "cell_type": "code",
   "execution_count": null,
   "id": "d8f36f94-e82c-4db0-a817-ee8f7a7e996f",
   "metadata": {},
   "outputs": [],
   "source": [
    "a == b"
   ]
  },
  {
   "cell_type": "code",
   "execution_count": null,
   "id": "93735e49-bc2b-46a0-b50a-612da7ad1ae3",
   "metadata": {},
   "outputs": [],
   "source": [
    "for a,b in zip(x,y):\n",
    "    if not a == b:\n",
    "        print(f\"{a}\\t{b}\")"
   ]
  },
  {
   "cell_type": "code",
   "execution_count": null,
   "id": "7bf17d79-35a1-4a07-b4c1-e5064a88feb0",
   "metadata": {},
   "outputs": [],
   "source": []
  },
  {
   "cell_type": "code",
   "execution_count": 40,
   "id": "b2dc234b-c416-44a8-b88a-ecdbf00a3291",
   "metadata": {
    "tags": []
   },
   "outputs": [
    {
     "data": {
      "text/plain": [
       "['Currently on file : mat512_32.bin',\n",
       " 'Number of matrices to be read    : 512 ',\n",
       " 'Matrices order                   : 32 ',\n",
       " 'Initialization and opening of file took : 4.357e-01 seconds',\n",
       " 'Reading of all matrices took : 6.589e-03 seconds',\n",
       " 'The transfer of 4194304 byte/s from the host to the device took : 2.830e-04 seconds',\n",
       " 'Processing of matrix on GPU took : 1.313e-03 seconds',\n",
       " 'Processing of matrix on CPU took : 5.363e-03 seconds',\n",
       " 'GPU and CPU determinants are different.']"
      ]
     },
     "execution_count": 40,
     "metadata": {},
     "output_type": "execute_result"
    }
   ],
   "source": [
    "lines[:9]"
   ]
  },
  {
   "cell_type": "code",
   "execution_count": null,
   "id": "536e6e5e-b33b-4bd7-86ef-8f311c219134",
   "metadata": {},
   "outputs": [],
   "source": []
  },
  {
   "cell_type": "code",
   "execution_count": null,
   "id": "37d66c04-49ce-4535-8ffa-89e227d46696",
   "metadata": {},
   "outputs": [],
   "source": []
  },
  {
   "cell_type": "code",
   "execution_count": null,
   "id": "8760ccef-d325-4267-8ef1-f48550e711b4",
   "metadata": {},
   "outputs": [],
   "source": []
  },
  {
   "cell_type": "code",
   "execution_count": 1,
   "id": "44ef6486-1c2f-4cc6-882f-206dec0fff8c",
   "metadata": {},
   "outputs": [],
   "source": [
    "import numpy as np"
   ]
  },
  {
   "cell_type": "code",
   "execution_count": 129,
   "id": "628d663e-5b5d-4955-b3b9-1c5fff928cc3",
   "metadata": {},
   "outputs": [],
   "source": [
    "file = \"times2/512_256.txt\"\n",
    "with open(file) as f:\n",
    "    lines = f.read().splitlines()"
   ]
  },
  {
   "cell_type": "code",
   "execution_count": 130,
   "id": "fbc245ec-e1c8-4045-b26a-8f5f835024aa",
   "metadata": {},
   "outputs": [
    {
     "name": "stdout",
     "output_type": "stream",
     "text": [
      "0 1 2 3 4 5 6 7 8 9 "
     ]
    }
   ],
   "source": [
    "i_time = []\n",
    "r_time = []\n",
    "t_time = []\n",
    "g_time = []\n",
    "c_time = []\n",
    "\n",
    "for i in range(10):\n",
    "    print(i ,end=\" \")\n",
    "    i_time.append(float(lines[(i*9) + 3].split(\":\")[1].strip().split(\" \")[0]))\n",
    "    r_time.append(float(lines[(i*9) + 4].split(\":\")[1].strip().split(\" \")[0]))\n",
    "    t_time.append(float(lines[(i*9) + 5].split(\":\")[1].strip().split(\" \")[0]))\n",
    "    g_time.append(float(lines[(i*9) + 6].split(\":\")[1].strip().split(\" \")[0]))\n",
    "    c_time.append(float(lines[(i*9) + 7].split(\":\")[1].strip().split(\" \")[0]))"
   ]
  },
  {
   "cell_type": "code",
   "execution_count": 131,
   "id": "2db5c1ec-511a-49d3-803b-cf3bac753144",
   "metadata": {},
   "outputs": [
    {
     "name": "stdout",
     "output_type": "stream",
     "text": [
      "4.428e-01\n"
     ]
    }
   ],
   "source": [
    "print(\"{:.3e}\".format(np.mean(r_time)))"
   ]
  },
  {
   "cell_type": "code",
   "execution_count": 132,
   "id": "99a4523d-15c7-4d3f-bbaf-6eb969f5dbf5",
   "metadata": {},
   "outputs": [
    {
     "name": "stdout",
     "output_type": "stream",
     "text": [
      "3.712e-01\n"
     ]
    }
   ],
   "source": [
    "print(\"{:.3e}\".format(np.mean(i_time)))"
   ]
  },
  {
   "cell_type": "code",
   "execution_count": 133,
   "id": "77be92c1-46ef-4134-99d5-3dc6ec222c64",
   "metadata": {},
   "outputs": [
    {
     "name": "stdout",
     "output_type": "stream",
     "text": [
      "8.705e+00\n"
     ]
    }
   ],
   "source": [
    "print(\"{:.3e}\".format(np.mean(g_time)))"
   ]
  },
  {
   "cell_type": "code",
   "execution_count": 134,
   "id": "8fa44f90-2c42-4c24-82a6-4b1a1f3cb53e",
   "metadata": {},
   "outputs": [
    {
     "name": "stdout",
     "output_type": "stream",
     "text": [
      "3.666e-03\n"
     ]
    }
   ],
   "source": [
    "print(\"{:.3e}\".format(np.std(g_time)))"
   ]
  },
  {
   "cell_type": "code",
   "execution_count": 135,
   "id": "b8dd8a45-00c3-4f85-8cf2-b48279c1ac12",
   "metadata": {},
   "outputs": [
    {
     "name": "stdout",
     "output_type": "stream",
     "text": [
      "4.755e+01\n"
     ]
    }
   ],
   "source": [
    "print(\"{:.3e}\".format(np.mean(c_time)))"
   ]
  },
  {
   "cell_type": "code",
   "execution_count": 136,
   "id": "7c8d1562-503b-45cb-84c4-3b7793b3563d",
   "metadata": {},
   "outputs": [
    {
     "name": "stdout",
     "output_type": "stream",
     "text": [
      "1.693e-01\n"
     ]
    }
   ],
   "source": [
    "print(\"{:.3e}\".format(np.std(c_time)))"
   ]
  },
  {
   "cell_type": "code",
   "execution_count": null,
   "id": "68493e66-6e9f-4870-872d-53924d978f7a",
   "metadata": {},
   "outputs": [],
   "source": []
  },
  {
   "cell_type": "code",
   "execution_count": 4,
   "id": "1dac876f-65b8-4961-8647-ce6b42777e69",
   "metadata": {},
   "outputs": [],
   "source": [
    "def percentage(curr, old):\n",
    "    return round(((curr-old)/old)*100,2)"
   ]
  },
  {
   "cell_type": "code",
   "execution_count": 31,
   "id": "702a6dc9-5a70-403d-9782-92944b09366c",
   "metadata": {},
   "outputs": [],
   "source": [
    "a=  5.375e-03\n",
    "b= 3.749e-02\n",
    "c= 2.860e-01\n",
    "d= 2.146e+00"
   ]
  },
  {
   "cell_type": "code",
   "execution_count": 32,
   "id": "d8ce9363-5294-4e82-bd44-6b3319546fb1",
   "metadata": {},
   "outputs": [
    {
     "data": {
      "text/plain": [
       "597.49"
      ]
     },
     "execution_count": 32,
     "metadata": {},
     "output_type": "execute_result"
    }
   ],
   "source": [
    "percentage(b,a) "
   ]
  },
  {
   "cell_type": "code",
   "execution_count": 33,
   "id": "7b4e3764-a6c5-4de5-bc03-905085b148a9",
   "metadata": {},
   "outputs": [
    {
     "data": {
      "text/plain": [
       "662.87"
      ]
     },
     "execution_count": 33,
     "metadata": {},
     "output_type": "execute_result"
    }
   ],
   "source": [
    "percentage(c,b)"
   ]
  },
  {
   "cell_type": "code",
   "execution_count": 34,
   "id": "47e445d7-ca3d-43e4-9010-e58bf6178ef2",
   "metadata": {},
   "outputs": [
    {
     "data": {
      "text/plain": [
       "650.35"
      ]
     },
     "execution_count": 34,
     "metadata": {},
     "output_type": "execute_result"
    }
   ],
   "source": [
    "percentage(d,c)"
   ]
  },
  {
   "cell_type": "code",
   "execution_count": null,
   "id": "fa599472-94dd-4e0d-8733-3542b72f294f",
   "metadata": {},
   "outputs": [],
   "source": []
  },
  {
   "cell_type": "code",
   "execution_count": 42,
   "id": "37d5a7c5-acfe-4c45-9202-0628ca6b68dc",
   "metadata": {},
   "outputs": [
    {
     "data": {
      "text/plain": [
       "22.157502329916124"
      ]
     },
     "execution_count": 42,
     "metadata": {},
     "output_type": "execute_result"
    }
   ],
   "source": [
    "4.755e+01 /2.146e+00"
   ]
  },
  {
   "cell_type": "code",
   "execution_count": null,
   "id": "71743f1f-363e-401d-b96b-2122bbad4eeb",
   "metadata": {},
   "outputs": [],
   "source": []
  }
 ],
 "metadata": {
  "kernelspec": {
   "display_name": "Python 3 (ipykernel)",
   "language": "python",
   "name": "python3"
  },
  "language_info": {
   "codemirror_mode": {
    "name": "ipython",
    "version": 3
   },
   "file_extension": ".py",
   "mimetype": "text/x-python",
   "name": "python",
   "nbconvert_exporter": "python",
   "pygments_lexer": "ipython3",
   "version": "3.10.5"
  }
 },
 "nbformat": 4,
 "nbformat_minor": 5
}
